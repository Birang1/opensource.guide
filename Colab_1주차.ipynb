{
  "nbformat": 4,
  "nbformat_minor": 0,
  "metadata": {
    "colab": {
      "provenance": [],
      "authorship_tag": "ABX9TyMyP3C0WBL2pUpCmJImwjvA",
      "include_colab_link": true
    },
    "kernelspec": {
      "name": "python3",
      "display_name": "Python 3"
    },
    "language_info": {
      "name": "python"
    }
  },
  "cells": [
    {
      "cell_type": "markdown",
      "metadata": {
        "id": "view-in-github",
        "colab_type": "text"
      },
      "source": [
        "<a href=\"https://colab.research.google.com/github/Birang1/opensource.guide/blob/main/Colab_1%EC%A3%BC%EC%B0%A8.ipynb\" target=\"_parent\"><img src=\"https://colab.research.google.com/assets/colab-badge.svg\" alt=\"Open In Colab\"/></a>"
      ]
    },
    {
      "cell_type": "code",
      "execution_count": null,
      "metadata": {
        "id": "zzJwE5olqA3K",
        "outputId": "dce62e9d-f4b1-4548-c2ee-1194594bffb5",
        "colab": {
          "base_uri": "https://localhost:8080/"
        }
      },
      "outputs": [
        {
          "output_type": "stream",
          "name": "stdout",
          "text": [
            "5\n",
            "대한민국\n",
            "hello world\n",
            "성인\n",
            "성인\n",
            "성인\n",
            "청소년\n"
          ]
        }
      ],
      "source": [
        " # 1주차\n",
        "\n",
        "# 마인드! : 문법에 대한 내용을 표준화를 시키려고 하지 말아라 = 걍 받아 들여라 (대괄호, 소괄호는 언제 쓰는거지? (x), 리스트를 할 때, 대괄호를 쓰는구나 (o))\n",
        "\n",
        "# 변수\n",
        "\n",
        "a=2\n",
        "b=3\n",
        "\n",
        "print(a+b)\n",
        "\n",
        "#문자 변수\n",
        "  \n",
        "  # 작은 따옴표로 해줘야 한다. ('')\n",
        "a='대한'\n",
        "b='민국'\n",
        "\n",
        "print(a+b)\n",
        "\n",
        "\n",
        "# List\n",
        "\n",
        "a_list = ['사과','배','감','수박'] # 대괄호를 반드시 써줘야한다! 괄호가 소괄호면 결과가 달라짐.\n",
        "\n",
        "a_list\n",
        "\n",
        "a_list [0]\n",
        "\n",
        "a_list.append('딸기') # 추가 하고 싶을 때는 .append('추가 하고 싶은 원소 이름')\n",
        "\n",
        "a_list\n",
        "\n",
        "\n",
        "# Dictionary\n",
        "\n",
        "a_dict = {'name':'철수','age':15} # 중괄호는 dictionary의 하나의 원소를 추가할 때.\n",
        "\n",
        "a_dict \n",
        "\n",
        "a_dict['age'] #age 변수 값을 보여줘라\n",
        "\n",
        "a_dict['height'] = 180\n",
        "\n",
        "a_dict\n",
        "\n",
        "a_dict['height']\n",
        "\n",
        "# List 안에 dictionary가 들어가 있는 상태 > 자주 사용함.\n",
        "\n",
        "b_list = [{'name':'철수','age':15}, {'name':'영희','age':25}]\n",
        "\n",
        "b_list\n",
        "\n",
        "b_list[0] # 값을 출력을 할 때는 대괄호를 쓴다.\n",
        "\n",
        "b_list[0]['age'] #주의: 철수의 나이를 보고 싶을때는 쉼표(,)를 추가 하지 않는다.\n",
        "\n",
        "b_list[1]['name']\n",
        "\n",
        "# 함수 : 정해진 동작을 하게 하는것. \n",
        "\n",
        "def sum(a,b): # 1) def '함수이름(문자1,문자2):'> 문자1과 문자2로 이루어진 함수를 정의한다. \n",
        "  print('hello world')\n",
        "  return a+b # 2) return 원하는 결과 : 원하는 결과로 나오게 해줘! 라는 의미\n",
        "\n",
        "result=sum(2,3)\n",
        "\n",
        "result # hello world와 5가 나올것이다.\n",
        "\n",
        "# 조건문\n",
        "\n",
        "age=25\n",
        "\n",
        "if age>20:\n",
        "  print('성인') # 들여쓰기의 의미는 if에 해당되는 꾸러미구나 라는것을 알려주는 표현이다.\n",
        "else:\n",
        "  print('청소년')\n",
        "\n",
        "def is_adult(age):\n",
        "  if age>20:\n",
        "    print('성인')\n",
        "  else:\n",
        "    print('청소년')\n",
        "\n",
        "is_adult(30)\n",
        "is_adult(25)\n",
        "is_adult(15) "
      ]
    },
    {
      "cell_type": "code",
      "source": [
        "# 반복문 : List하고 같이 쓴다. (반복할 거리가 list이기 때문.)\n",
        "\n",
        "a_list = ['사과','배','감','귤']\n",
        "\n",
        "for a in a_list:\n",
        "  print(a)\n",
        "\n",
        "\n",
        "\n",
        "ages=[5,30,25,15] # 이 괄호가 소괄호면 결과가 달라짐\n",
        "\n",
        "for age in ages:\n",
        "  is_adult(age)\n",
        "\n"
      ],
      "metadata": {
        "id": "dxxIO4ir3GC0"
      },
      "execution_count": null,
      "outputs": []
    },
    {
      "cell_type": "code",
      "source": [
        "# 뉴스 스크랩핑 라이브러리 설치\n",
        "\n",
        "!pip install bs4 requests # bs4는 솎아내는 library / # requests는 enter를 치는 library # (느낌표를 앞에 붙혀줘야 설치를 한다는 파이썬 문법으로 인식한다.)\n",
        "\n",
        "# 뉴스 스크랩핑 (웹 스크랩핑 기본코드)\n",
        "# Document\n",
        "# 다른 사람이 만들어 놓은 library에는 기본으로 사용 할 수 있는 code가 존재한다.\n",
        "# 의미 : 자세한 내용은 알 필요 없으나 이렇게 쓰면 돼~ 라고 써놓고 사용법을 써 놓음. > 이것이 document 라고 하는것임. \n",
        "\n",
        "import requests\n",
        "from bs4 import BeautifulSoup\n",
        "\n",
        "headers = {'User-Agent' : 'Mozilla/5.0 (Windows NT 10.0; Win64; x64)AppleWebKit/537.36 (KHTML, like Gecko) Chrome/73.0.3683.86 Safari/537.36'}\n",
        "data = requests.get('https://search.naver.com/search.naver?where=news&ie=utf8&sm=nws_hty&query=삼성전자',headers=headers)\n",
        "\n",
        "soup = BeautifulSoup(data.text, 'html.parser')\n",
        "\n",
        "# 1) 특정 하나의 기사에 대한 정보 보기\n",
        "# 방법 : li (특정 한칸) 안에 있는 <a (a 태그) 안에 있는 href (링크)를 가져와야 한다.\n",
        "\n",
        "# 기사 하이퍼링크 > 오른쪽 마우스 > 검사 > li > a 태그 오른쪽 마우스 > copy > copy selector > 왼쪽 함수에 붙혀 넣기 ('여기안에')\n",
        "\n",
        "a = soup.select_one('#sp_nws1 > div.news_wrap.api_ani_send > div > a') # soup.select_one : 하나를 선택한다는 의미 같음.\n",
        "\n",
        "a # a에 어떤 내용이 있는지\n",
        "a.text # a에 문자만 보기\n",
        "a['href'] # a의 링크를 보기, href : 링크 주소 \n",
        "\n",
        "\n"
      ],
      "metadata": {
        "colab": {
          "base_uri": "https://localhost:8080/"
        },
        "id": "R0_0FGdmj2jJ",
        "outputId": "b1816b35-a679-4212-c689-a387b08caa6c"
      },
      "execution_count": null,
      "outputs": [
        {
          "output_type": "stream",
          "name": "stdout",
          "text": [
            "<li class=\"bx\" id=\"sp_nws1\"> <div class=\"news_wrap api_ani_send\"> <div class=\"news_area\"> <div class=\"news_info\"> <div class=\"api_save_group _keep_wrap\"> <a aria-pressed=\"false\" class=\"btn_save _keep_trigger\" data-url=\"https://www.news1.kr/articles/4982246\" href=\"#\" onclick=\"tCR('a=nws*h.kep&amp;r=1&amp;i=08138263_000000000000000006685868&amp;u=javascript'); return false;\" role=\"button\"><i class=\"spnew ico_save\">문서 저장하기</i></a> <div class=\"api_ly_save _keep_save_layer\"> <a class=\"spnew_af item item_save _keep_save\" data-cr-off=\"a=nws*h.kepoff&amp;r=1&amp;i=08138263_000000000000000006685868&amp;u=javascript\" data-cr-on=\"a=nws*h.kepon&amp;r=1&amp;i=08138263_000000000000000006685868&amp;u=javascript\" href=\"#\" role=\"button\">Keep에 저장</a> <a class=\"spnew_af item item_quick\" href=\"https://keep.naver.com/\" onclick=\"return goOtherCR(this,'a=nws*h.kephome&amp;r=1&amp;i=08138263_000000000000000006685868&amp;u='+urlencode(this.href));\" target=\"_blank\">Keep 바로가기</a> </div></div><div class=\"info_group\"> <a class=\"info press\" href=\"http://news1.kr/\" onclick=\"return goOtherCR(this, 'a=nws*h.prof&amp;r=1&amp;i=08138263_000000000000000006685868&amp;g=421.0006685868&amp;u='+urlencode(this.href));\" target=\"_blank\"><span class=\"thumb_box\"><img alt=\"\" class=\"thumb\" data-lazysrc=\"https://search.pstatic.net/common/?src=https%3A%2F%2Fmimgnews.pstatic.net%2Fimage%2Fupload%2Foffice_logo%2F421%2F2017%2F01%2F05%2Flogo_421_18_20170105111205.png&amp;type=f54_54&amp;expire=24&amp;refresh=true\" height=\"20\" onerror=\"this.src='data:image/gif;base64,R0lGODlhAQABAIAAAAAAAP///yH5BAEAAAAALAAAAAABAAEAAAIBRAA7';this.className='thumb bg_default_press'\" src=\"data:image/gif;base64,R0lGODlhAQABAIAAAAAAAP///yH5BAEAAAAALAAAAAABAAEAAAIBRAA7\" width=\"20\"/></span>뉴스1<i class=\"spnew ico_pick\">언론사 선정</i></a><span class=\"info\">10시간 전</span><a class=\"info\" href=\"https://n.news.naver.com/mnews/article/421/0006685868?sid=101\" onclick=\"return goOtherCR(this, 'a=nws*h.nav&amp;r=1&amp;i=08138263_000000000000000006685868&amp;u='+urlencode(this.href));\" target=\"_blank\">네이버뉴스</a> </div></div><a class=\"news_tit\" href=\"https://www.news1.kr/articles/4982246\" onclick=\"return goOtherCR(this, 'a=nws*h.tit&amp;r=1&amp;i=08138263_000000000000000006685868&amp;g=421.0006685868&amp;u='+urlencode(this.href));\" target=\"_blank\" title='용인에 세계 최대 반도체 클러스터 조성…\"삼성전자 300조 투자\"'>용인에 세계 최대 반도체 클러스터 조성…\"<mark>삼성전자</mark> 300조 투자\"</a> <div class=\"news_dsc\"> <div class=\"dsc_wrap\"> <a class=\"api_txt_lines dsc_txt_wrap\" href=\"https://www.news1.kr/articles/4982246\" onclick=\"return goOtherCR(this, 'a=nws*h.body&amp;r=1&amp;i=08138263_000000000000000006685868&amp;g=421.0006685868&amp;u='+urlencode(this.href));\" target=\"_blank\"><mark>삼성전자</mark>(005930)는 20년간 300조원을 투자해 메모리 초격차는 물론 파운드리 점유율 확대에 나서기로 했다. 해외에 건설할 수 있는 반도체 팹이 한국에 생기는 셈이다. 경제 효과도 엄청나다. 300조원이 투자되면 대한민국...</a> </div></div></div><a class=\"dsc_thumb\" href=\"https://www.news1.kr/articles/4982246\" onclick=\"return goOtherCR(this, 'a=nws*h.img&amp;r=1&amp;i=08138263_000000000000000006685868&amp;g=421.0006685868&amp;u='+urlencode(this.href));\" target=\"_blank\"><img alt=\"용인에 세계 최대 반도\" class=\"thumb api_get\" data-lazysrc=\"https://search.pstatic.net/common/?src=https%3A%2F%2Fimgnews.pstatic.net%2Fimage%2Forigin%2F421%2F2023%2F03%2F15%2F6685868.jpg&amp;type=ff264_180&amp;expire=2&amp;refresh=true\" height=\"90\" onerror=\"this.parentNode.style.display='none';\" src=\"data:image/gif;base64,R0lGODlhAQABAIAAAAAAAP///yH5BAEAAAAALAAAAAABAAEAAAIBRAA7\" width=\"132\"/></a> </div><div class=\"news_cluster\"> <ul class=\"list_cluster\"> <li class=\"sub_bx\"> <span class=\"sub_wrap\"> <span class=\"sub_area\"> <cite class=\"sub_txt press\" title=\"한겨레\">한겨레<i class=\"spnew ico_pick\">언론사 선정</i></cite><span class=\"sub_txt\">8시간 전</span><a class=\"sub_txt\" href=\"https://n.news.naver.com/mnews/article/028/0002631502?sid=101\" onclick=\"return goOtherCR(this, 'a=nws*i.nav&amp;r=2&amp;i=88000103_000000000000000002631502&amp;u='+urlencode(this.href));\" target=\"_blank\">네이버뉴스</a> </span><a class=\"elss sub_tit\" href=\"https://www.hani.co.kr/arti/economy/marketing/1083712.html\" onclick=\"return goOtherCR(this, 'a=nws*i.tit&amp;r=2&amp;i=88000103_000000000000000002631502&amp;g=028.0002631502&amp;u='+urlencode(this.href));\" target=\"_blank\" title=\"정부, 삼성전자 앞세워 “용인에 세계 최대 반도체 클러스터”\">정부, <mark>삼성전자</mark> 앞세워 “용인에 세계 최대 반도체 클러스터”</a> </span></li> <li class=\"sub_bx\"> <span class=\"sub_wrap\"> <span class=\"sub_area\"> <cite class=\"sub_txt press\" title=\"MBC\">MBC<i class=\"spnew ico_pick\">언론사 선정</i></cite><span class=\"sub_txt\">3시간 전</span><a class=\"sub_txt\" href=\"https://n.news.naver.com/mnews/article/214/0001259888?sid=101\" onclick=\"return goOtherCR(this, 'a=nws*i.nav&amp;r=3&amp;i=88000119_000000000000000001259888&amp;u='+urlencode(this.href));\" target=\"_blank\">네이버뉴스</a> </span><a class=\"elss sub_tit\" href=\"https://imnews.imbc.com/replay/2023/nwdesk/article/6464364_36199.html\" onclick=\"return goOtherCR(this, 'a=nws*i.tit&amp;r=3&amp;i=88000119_000000000000000001259888&amp;g=214.0001259888&amp;u='+urlencode(this.href));\" target=\"_blank\" title='용인에 세계 최대 시스템 반도체 클러스터 조성‥삼성전자 \"300조원 투자\"'>용인에 세계 최대 시스템 반도체 클러스터 조성‥<mark>삼성전자</mark> \"300조원 투자\"</a> </span></li> <li class=\"sub_bx\"> <span class=\"sub_wrap\"> <span class=\"sub_area\"> <cite class=\"sub_txt press\" title=\"파이낸셜뉴스\">파이낸셜뉴스<i class=\"spnew ico_pick\">언론사 선정</i></cite><span class=\"sub_txt\">5시간 전</span><a class=\"sub_txt\" href=\"https://n.news.naver.com/mnews/article/014/0004982184?sid=101\" onclick=\"return goOtherCR(this, 'a=nws*i.nav&amp;r=4&amp;i=880000FF_000000000000000004982184&amp;u='+urlencode(this.href));\" target=\"_blank\">네이버뉴스</a> </span><a class=\"elss sub_tit\" href=\"http://www.fnnews.com/news/202303151810329866\" onclick=\"return goOtherCR(this, 'a=nws*i.tit&amp;r=4&amp;i=880000FF_000000000000000004982184&amp;g=014.0004982184&amp;u='+urlencode(this.href));\" target=\"_blank\" title=\"용인에 파운드리 전초기지 건설… TSMC 잡을 ‘삼각편대’ 완성 [삼성전자 300조 쏜다]\">용인에 파운드리 전초기지 건설… TSMC 잡을 ‘삼각편대’ 완성 [<mark>삼성전자</mark> 30...</a> </span></li> <li class=\"sub_bx\"> <span class=\"sub_wrap\"> <span class=\"sub_area\"> <cite class=\"sub_txt press\" title=\"머니S\">머니S<i class=\"spnew ico_pick\">언론사 선정</i></cite><span class=\"sub_txt\">9시간 전</span><a class=\"sub_txt\" href=\"https://n.news.naver.com/mnews/article/417/0000903793?sid=101\" onclick=\"return goOtherCR(this, 'a=nws*i.nav&amp;r=5&amp;i=8812805E_000000000000000000903793&amp;u='+urlencode(this.href));\" target=\"_blank\">네이버뉴스</a> </span><a class=\"elss sub_tit\" href=\"http://moneys.mt.co.kr/news/mwView.php?no=2023031513393678615\" onclick=\"return goOtherCR(this, 'a=nws*i.tit&amp;r=5&amp;i=8812805E_000000000000000000903793&amp;g=417.0000903793&amp;u='+urlencode(this.href));\" target=\"_blank\" title=\"용인에 세계 최대 시스템반도체 클러스터 만든다… 삼성전자, 300조 투자\">용인에 세계 최대 시스템반도체 클러스터 만든다… <mark>삼성전자</mark>, 300조 투자</a> </span></li> </ul></div></li>\n"
          ]
        }
      ]
    },
    {
      "cell_type": "code",
      "source": [],
      "metadata": {
        "id": "ixdFFeRov3Z-"
      },
      "execution_count": null,
      "outputs": []
    },
    {
      "cell_type": "code",
      "source": [
        "# 2-1) 여러 기사들 봐보기 : li들을 먼저 가져와야 한다.\n",
        "# 방법 : ul에서 copy selector 한 뒤에 > lis = soup.select('붙혀넣기 > li') 해준다. (마지막에 li 추가해야한 다는것 주의!)\n",
        "\n",
        "lis = soup.select('#main_pack > section > div > div.group_news > ul > li')\n",
        "\n",
        "# 2-2) 예시로.. 첫번째 list에 있는 a 태그 중에 news_tit라고 되어 있는 부분을 select 해줘라.\n",
        "lis[0].select_one('a.news_tit') # a태그로 구분해 줘야 하는데 a태그가 굉장히 많음. 보통 class로 구분해 줌. > 0번째에서 a태그의 class=tit로 들어가 있는 것을 뽑아줘라.\n",
        "\n",
        "a['href']\n",
        "\n",
        "# 2-3) 궁극적으로 하고 싶은것 : 모든 기사를 스크랩핑 하기 > 반복문을 사용\n",
        "\n",
        "for li in lis: #lis안에 있는 li들을 꺼내서 아래 내용을 하겠다.\n",
        "  a = li.select_one('a.news_tit')\n",
        "  print(a.text, a['href']) # news_tit만 있는 기사들중에서 문자만 꺼내서 보여줘라. 그리고 링크까지 보여줘라.\n",
        "\n",
        "## 결론 2-1과 2-3만 있으면 가능\n"
      ],
      "metadata": {
        "colab": {
          "base_uri": "https://localhost:8080/"
        },
        "id": "Vm82VNjNrMvP",
        "outputId": "f41cc8b0-ceca-4d7b-f3b9-ef54b083cd47"
      },
      "execution_count": null,
      "outputs": [
        {
          "output_type": "stream",
          "name": "stdout",
          "text": [
            "용인에 세계 최대 반도체 클러스터 조성…\"삼성전자 300조 투자\" https://www.news1.kr/articles/4982246\n",
            "마스크 해제 후 첫 삼성전자 주총…주주 581만명 중 600명 참석 http://www.newsis.com/view/?id=NISX20230315_0002227545&cID=13001&pID=13000\n",
            "삼성전자 주주들 \"10만원에 샀는데 지금 6만원 턱걸이\" 성토 http://www.newsis.com/view/?id=NISX20230315_0002227242&cID=13001&pID=13000\n",
            "삼성전자 정기추종, 한종희 부회장 재선임…“연간 9조8000억 배당” https://economist.co.kr/article/view/ecn202303150033\n",
            "삼성전자 주총…한종희 \"본질에 집중해 위기극복, 주주가치 제고에 최선\" https://www.hankyung.com/economy/article/202303159861g\n",
            "“주주를 물로 보나”… 동학개미 성토장 된 삼성전자 주총 http://www.segye.com/content/html/2023/03/15/20230315519733.html?OutUrl=naver\n",
            "세계 최대 '반도체 클러스터' 용인에 만든다…삼성전자 300조 원 투자 http://www.mbn.co.kr/pages/news/newsView.php?news_seq_no=4912142\n",
            "600만 개미 눈길…‘대장주’ 삼성전자 제54기 주주총회 개최 https://www.ddaily.co.kr/news/article.html?no=259404\n",
            "삼성전자, 용인 '실리콘 힐즈'…반도체 초강대국 투자 http://www.newsis.com/view/?id=NISX20230315_0002227125&cID=13001&pID=13000\n",
            "삼성전자, 서울시·한전과 손잡고 '주민 DR 서비스' 시범사업 참여 http://www.fnnews.com/news/202303150907256266\n"
          ]
        }
      ]
    },
    {
      "cell_type": "code",
      "source": [
        "# 3) 다른 키워드로도 스크랩 하고 싶을 때.\n",
        "\n",
        "import requests\n",
        "from bs4 import BeautifulSoup\n",
        "\n",
        "def get_news(keyword): # 3-1) 함수를 만들어 주고 변수를 keyword로 한다.\n",
        "\n",
        "  headers = {'User-Agent' : 'Mozilla/5.0 (Windows NT 10.0; Win64; x64)AppleWebKit/537.36 (KHTML, like Gecko) Chrome/73.0.3683.86 Safari/537.36'}\n",
        "  data = requests.get(f'https://search.naver.com/search.naver?where=news&ie=utf8&sm=nws_hty&query={keyword}',headers=headers)\n",
        "\n",
        "# 작은 따옴표 안쪽은 네이버의 검색 엔진의 코딩인거 같음.\n",
        "# 3-2) 주소 작은 따옴표 앞에 f를 붙혀주고 원하는 단어를 중괄호를 씌워준후 keyword 변수를 집어 넣는다.\n",
        "\n",
        "  soup = BeautifulSoup(data.text, 'html.parser')\n",
        "\n",
        "  lis = soup.select('#main_pack > section > div > div.group_news > ul > li')\n",
        "\n",
        "  for li in lis: \n",
        "    a = li.select_one('a.news_tit')\n",
        "    print(a.text, a['href'])\n",
        "\n",
        "get_news('현대자동차') # 문자이니 작은 따옴표를 안에 붙혀줘야 함.\n",
        "get_news('LG전자')"
      ],
      "metadata": {
        "id": "kYjEF80le1Ii"
      },
      "execution_count": null,
      "outputs": []
    },
    {
      "cell_type": "code",
      "source": [
        "# 4) 엑셀 다루기\n",
        "\n",
        "# 4-1) library download 하기\n",
        "!pip install openpyxl\n",
        "\n",
        "# 4-2) 엑셀파일 만들어 보기 ( 설명서 사용 : ctrl + enter한 뒤에, 왼쪽에 보이는 폴더 파일 누르고 > 샘플파일.xlsx 다운 받아졌는지 확인.)\n",
        "\n",
        "from openpyxl import Workbook\n",
        "\n",
        "wb= Workbook()\n",
        "sheet = wb.active\n",
        "\n",
        "sheet['A1'] = '안녕하세요!'\n",
        "\n",
        "wb.save(\"샘플파일.xlsx\")\n",
        "wb.close()\n",
        "\n"
      ],
      "metadata": {
        "colab": {
          "base_uri": "https://localhost:8080/"
        },
        "id": "xVSfmU-8IkRV",
        "outputId": "6d64d9e2-d3f6-41df-c33c-7d611e8a814a"
      },
      "execution_count": null,
      "outputs": [
        {
          "output_type": "stream",
          "name": "stdout",
          "text": [
            "Looking in indexes: https://pypi.org/simple, https://us-python.pkg.dev/colab-wheels/public/simple/\n",
            "Requirement already satisfied: openpyxl in /usr/local/lib/python3.9/dist-packages (3.0.10)\n",
            "Requirement already satisfied: et-xmlfile in /usr/local/lib/python3.9/dist-packages (from openpyxl) (1.1.0)\n"
          ]
        }
      ]
    },
    {
      "cell_type": "code",
      "source": [
        "# 4-3) 엑셀 파일 읽어보기 # 사과 감 배 ... 가격 등의 정보가 입력 된.\n",
        "\n",
        "# 4-3-1) 엑셀에서 샘플파일.xlsx에 원하는 정보를 입력\n",
        "\n",
        "# 4-3-2) 엑셀 특정 cell 읽기 코드 (documentation 사용) ## 주의 : 파일명을 영어로 해야한다!! \n",
        "\n",
        "import openpyxl\n",
        "wb = openpyxl.load_workbook('abc.xlsx')\n",
        "sheet = wb['Sheet']\n",
        "\n",
        "sheet['B1'].value # 상품이 나올것임.\n",
        "\n",
        "# 4-3-3) 모든 row를 빼서 안에 있는 내용 읽어보기\n",
        "\n",
        "rows = sheet.rows # 모든 row (세로)를 뺀다는 명령어 > (왼쪽에 있는) rows라는 변수를 sheet.rows라는 명령어의 실행으로 한다. \n",
        "\n",
        "for row in rows:\n",
        "  print(row[0].value,row[1].value,row[2].value) # row의 값을 보여주라고 하는 명령어로 .value를 쓰는듯\n",
        "\n",
        "# 이렇게 하면 표 전체가 다 보임.\n",
        "\n",
        "# 번호 상품 가격이라는 제목을 빼고 1번부터 보고싶을 때 > 전체를 보여주게 한 다음 (각 row를 list의 원소로 만드는 방법)\n",
        "# > (그게 list로 보여주는 방법 : {0,1,2번째 row}로 보여지게)\n",
        "# > 거기서 1번부터 보여지게 하는 방법\n",
        "\n",
        "### 여기서 부터 이해가 잘 안 됨,,\n",
        "rows = list(sheet.rows)[1:] # 첫번째 row부터만 List화 해주고\n",
        "for row in rows: # row들에 대하여 반복작업 할건데\n",
        "  if row[2].value < 300:  # 3번째 row의 값이 300보다 작은 애들만 보여 달라\n",
        "    print(row[0].value,row[1].value,row[2].value) ## 이해가 잘 안되네,,\n",
        "\n",
        "# colab은 파일을 저장하는 공간이 아님.\n",
        "\n",
        "\n",
        "\n"
      ],
      "metadata": {
        "id": "WktkMfCmLdMj"
      },
      "execution_count": null,
      "outputs": []
    },
    {
      "cell_type": "code",
      "source": [
        "# 신문기사 스크랩 한 내용을 엑셀 파일로 변환 하고 싶을 때. (스크랩핑과 엑셀 코딩 융합.)\n",
        "\n",
        "import requests # 1) 스크랩핑 툴 오픈\n",
        "from bs4 import BeautifulSoup # 2) 스크랩핑 툴 오픈\n",
        "\n",
        "from openpyxl import Workbook # 3) 엑셀 파일 툴 오픈, 설명을 좀 해주지 왜 이걸 하는지..\n",
        "\n",
        "def get_news(keyword): # 함수안에 엑셀로 저장하는 명령어를 넣음.\n",
        "\n",
        "  wb= Workbook() # 4) 함수안에 엑셀로 저장하는 명령어를 넣음.\n",
        "  sheet = wb.active # 5) 함수안에 엑셀로 저장하는 명령어를 넣음.\n",
        "\n",
        "# 6) 신문기사 스크랩 명령어\n",
        "\n",
        "  headers = {'User-Agent' : 'Mozilla/5.0 (Windows NT 10.0; Win64; x64)AppleWebKit/537.36 (KHTML, like Gecko) Chrome/73.0.3683.86 Safari/537.36'}\n",
        "  data = requests.get(f'https://search.naver.com/search.naver?where=news&ie=utf8&sm=nws_hty&query={keyword}',headers=headers)\n",
        "\n",
        "\n",
        "  soup = BeautifulSoup(data.text, 'html.parser')\n",
        "\n",
        "  lis = soup.select('#main_pack > section > div > div.group_news > ul > li')\n",
        "\n",
        "  for li in lis: \n",
        "    a = li.select_one('a.news_tit')\n",
        "    row = [a.text, a['href']] # 8-1) 제목을 list화 시킨다.\n",
        "    sheet.append(row) # 8-2) 그 row들을 하나하나 차곡차곡 쌓는다는 명령어 .append()\n",
        "\n",
        "# 9) 문서 앞에 날짜를 달아준다.\n",
        "\n",
        "  from datetime import datetime\n",
        "\n",
        "  today = datetime.today().strftime(\"%Y-%m-%d\")\n",
        "\n",
        "# 7) 스크랩 엑셀 파일로 저장\n",
        "\n",
        "  wb.save(f\"news/{today}_{keyword}.xlsx\") # 10) today를 넣어줌. # 11) news/를 추가하면 news라는 폴더에 쌓여라 라는 코딩이 되는것임.\n",
        "  wb.close()\n",
        "\n",
        "get_news('삼성전자') #  9) 저장 됨.\n"
      ],
      "metadata": {
        "id": "6iBBKCKw_U5d"
      },
      "execution_count": null,
      "outputs": []
    },
    {
      "cell_type": "code",
      "source": [
        "# 날짜 가져오기 (이것도 documentation 사용.)\n",
        "\n",
        "from datetime import datetime\n",
        "\n",
        "datetime.today().strftime(\"%Y/%m/%d\")"
      ],
      "metadata": {
        "colab": {
          "base_uri": "https://localhost:8080/",
          "height": 36
        },
        "id": "XhQTrlYXIjGs",
        "outputId": "b20c33c5-cbae-4b3c-e6fe-3d30103a2fdd"
      },
      "execution_count": null,
      "outputs": [
        {
          "output_type": "execute_result",
          "data": {
            "text/plain": [
              "'2023/03/20'"
            ],
            "application/vnd.google.colaboratory.intrinsic+json": {
              "type": "string"
            }
          },
          "metadata": {},
          "execution_count": 5
        }
      ]
    },
    {
      "cell_type": "code",
      "source": [
        "# 여러개의 종목을 한번에 만들어서 쭉 다운로드\n",
        "\n",
        "keywords = ['삼성전자','LG에너지솔루션','SK하이닉스','NAVER','삼성바이오로직스','삼성전자우','카카오','삼성SDI','현대차','LG화학','기아','POSCO홀딩스','KB금융','카카오뱅크','셀트리온','신한지주','삼성물산','현대모비스','SK이노베이션','LG전자','카카오페이','SK','한국전력','크래프톤','하나금융지주','LG생활건강','HMM','삼성생명','하이브','두산중공업','SK텔레콤','삼성전기','SK바이오사이언스','LG','S-Oil','고려아연','KT&G','우리금융지주','대한항공','삼성에스디에스','현대중공업','엔씨소프트','삼성화재','아모레퍼시픽','KT','포스코케미칼','넷마블','SK아이이테크놀로지','LG이노텍','기업은행']\n",
        "\n",
        "for keyword in keywords:\n",
        "  print(keyword) # 어디까지 했는지 알기 위해 print를 넣어줌. # 변수를 넣을 때는 따옴표가 필요 없음.\n",
        "  get_news(keyword) # for문에서 변수는 단수로 넣어주면 됨. 그 작업이 반복이 될테니."
      ],
      "metadata": {
        "id": "xauOYUq8KpCk"
      },
      "execution_count": null,
      "outputs": []
    },
    {
      "cell_type": "code",
      "source": [
        "# 압축 파일 만들기\n",
        "!zip -r /content/files.zip /content/news # content/news 폴더의 파일들을 content/files.zip으로 압축해 줘라."
      ],
      "metadata": {
        "id": "Gaz9mNdLMD4o"
      },
      "execution_count": null,
      "outputs": []
    },
    {
      "cell_type": "code",
      "source": [
        "# 한번에 여러가지 파일 이름 바꾸기\n",
        "\n",
        "# 1) 바꾸고 싶은 이름 패턴을 변수로 설정\n",
        "\n",
        "name = '2023-03-20_KT.xlsx' # 이러한 이름이 있다면\n",
        "name.split('.') # .으로 두 이름을 구분해라\n",
        "\n",
        "new_name = name.split('.')[0]+'(뉴스).xlsx' # 앞뒤로 나뉘어진 이름에서 앞쪽의 글에다가 뉴스.xlsx라는 단어를 붙혀라."
      ],
      "metadata": {
        "id": "MlbpGbK8NOTY"
      },
      "execution_count": null,
      "outputs": []
    },
    {
      "cell_type": "code",
      "source": [
        "#2) news에 있는 폴더 전체적으로 이름 바꾸기. / 그냥 content에 있는건 잘 안되네,,\n",
        "\n",
        "import os\n",
        "\n",
        "path = '/content/news' # path 지정하고\n",
        "files = os.listdir(path) # path에 있는 파일들 list up 하고\n",
        "\n",
        "for name in files: # 파일들의 name을 반복하여\n",
        "  new_name = name.split('.')[0]+'(뉴스).xlsx' # 새로운 이름을 붙혀준다.\n",
        "  os.rename(f'/content/news/{name}',f'/content/news/{new_name}')"
      ],
      "metadata": {
        "id": "0RFVI3ukOS5z"
      },
      "execution_count": null,
      "outputs": []
    },
    {
      "cell_type": "code",
      "source": [
        "# 주식차트 이미지 여러개 받는 법\n",
        "\n",
        "# finance.naver.com에 들어간다.\n",
        "# 원하는 종목을 친다. ex) 삼성전자\n",
        "# 차트에 오른쪽 마우스 누르고 '이미지 주소 복사 클릭'\n",
        "# EX) https://ssl.pstatic.net/imgfinance/chart/item/area/year3/005930.png?sidcode=1679316229435 \n",
        "# 위처럼 나오면 005930.png?sidcode=1679316229435 에서 ?부터 다 필요 없는 부분.\n",
        "# 005930의 위치에 다른 숫자를 넣을 때 마다 다른 이미지를 다운 받을 수 있음.\n",
        "\n",
        "import urllib.request\n",
        "\n",
        "url = 'https://ssl.pstatic.net/imgfinance/chart/item/area/year3/005930.png?sidcode=1679316229435' # 주소 입력\n",
        "urllib.request.urlretrieve(url, \"삼성전자.jpg\")"
      ],
      "metadata": {
        "colab": {
          "base_uri": "https://localhost:8080/"
        },
        "id": "u8wgg3KJDelI",
        "outputId": "085c4bec-e778-4c12-b919-6ab3d5433c7a"
      },
      "execution_count": null,
      "outputs": [
        {
          "output_type": "execute_result",
          "data": {
            "text/plain": [
              "('삼성전자.jpg', <http.client.HTTPMessage at 0x7f44cfc2db50>)"
            ]
          },
          "metadata": {},
          "execution_count": 1
        }
      ]
    },
    {
      "cell_type": "code",
      "source": [
        "# 숙제 : 여러 종목별 주식차트 이미지 모두 받기.\n",
        "\n",
        "# 종목별 코드가 있는 엑셀 파일 열기\n",
        "\n",
        "\n",
        "import openpyxl\n",
        "wb = openpyxl.load_workbook('finance.xlsx')\n",
        "sheet = wb['code']\n",
        "\n",
        "new_rows = list(sheet.rows)[1:]\n",
        "\n",
        "import urllib.request\n",
        "\n",
        "for row in new_rows:\n",
        "  url = f'https://ssl.pstatic.net/imgfinance/chart/item/area/year3/{row[1].value}.png'## 주의 1) 명령어 괄호 없이 url주소 안에 변수를 넣어 줄때는 따옴표 밖에 바로 f를 붙혀주면 됨.\n",
        "  # 주의 2) .value를 꼭 붙혀줘야 함!!\n",
        "  urllib.request.urlretrieve(url, f\"{row[0].value}.png\")"
      ],
      "metadata": {
        "id": "LBkTPoIUE2iD"
      },
      "execution_count": null,
      "outputs": []
    },
    {
      "cell_type": "code",
      "source": [
        "import openpyxl\n",
        "import urllib.request\n",
        "\n",
        "wb = openpyxl.load_workbook('finance.xlsx')\n",
        "sheet = wb['code']\n",
        "\n",
        "new_rows = list(sheet.rows)[1:]\n",
        "\n",
        "for row in new_rows:\n",
        "  url = f'https://ssl.pstatic.net/imgfinance/chart/item/area/year3/{row[1].value}.png'\n",
        "  urllib.request.urlretrieve(url, f\"imgs/{row[0].value}.png\")"
      ],
      "metadata": {
        "id": "aW0HSbs1Rkjt"
      },
      "execution_count": null,
      "outputs": []
    },
    {
      "cell_type": "code",
      "source": [],
      "metadata": {
        "id": "GGjHk6YXSdT2"
      },
      "execution_count": null,
      "outputs": []
    }
  ]
}